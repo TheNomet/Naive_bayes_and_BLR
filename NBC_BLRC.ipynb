{
 "cells": [
  {
   "cell_type": "markdown",
   "metadata": {},
   "source": [
    "### <h1 style=\"text-align:center\">ASI   </h1>\n",
    "<h2 style=\"text-align:center\">Naïve Bayes Classifier and Bayesian Linear Regression</h2>\n",
    "<h3 style=\"text-align:center\">Matteo Fiore</h3>"
   ]
  },
  {
   "cell_type": "code",
   "execution_count": 1,
   "metadata": {
    "collapsed": false
   },
   "outputs": [],
   "source": [
    "from utils import MNIST\n",
    "import numpy as np\n",
    "import math\n",
    "import matplotlib.pyplot as plt\n",
    "from scipy.stats import norm\n",
    "import functools\n",
    "import pickle\n",
    "import time\n",
    "classes = [0,1,2,3,4,5,6,7,8,9]"
   ]
  },
  {
   "cell_type": "markdown",
   "metadata": {},
   "source": [
    "<div style=\"background-color:#327191; vertical-align: middle; padding:5px 0px 10px 10px;\">\n",
    "    <h1><font color='white'>Load Datasets</font></h1>\n",
    "</div>"
   ]
  },
  {
   "cell_type": "markdown",
   "metadata": {},
   "source": [
    "#### CIFAR10"
   ]
  },
  {
   "cell_type": "code",
   "execution_count": 2,
   "metadata": {
    "collapsed": false
   },
   "outputs": [
    {
     "data": {
      "image/png": "[encoded data removed]",
      "text/plain": [
       "<matplotlib.figure.Figure at 0x7f33a82e6a20>"
      ]
     },
     "metadata": {},
     "output_type": "display_data"
    },
    {
     "name": "stdout",
     "output_type": "stream",
     "text": [
      "label of image is --> 6\n"
     ]
    }
   ],
   "source": [
    "def unpickle(file):\n",
    "    import pickle\n",
    "    with open(file, 'rb') as fo:\n",
    "        dict = pickle.load(fo, encoding='bytes')\n",
    "    return dict\n",
    "\n",
    "base_cfar10 = 'cifar-10-batches-py/'\n",
    "cfar10_files = ['data_batch_1','data_batch_2','data_batch_3','data_batch_4','data_batch_5']\n",
    "\n",
    "data_cfar10 = []\n",
    "for f in cfar10_files:\n",
    "    data_cfar10.append(unpickle(base_cfar10+f))\n",
    "cfar10_test = unpickle(base_cfar10+'test_batch')\n",
    "\n",
    "cfar10_meta = unpickle(base_cfar10+'batches.meta')\n",
    "\n",
    "cfar10_training_images = np.array([d[b'data'] for d in data_cfar10]).flatten().reshape(50000,3072)\n",
    "cfar10_training_labels = np.array([d[b'labels'] for d in data_cfar10]).flatten()\n",
    "cfar10_test_images = cfar10_test[b'data']\n",
    "cfar10_test_labels = np.array(cfar10_test[b'labels'])\n",
    "\n",
    "# example \n",
    "im = np.reshape(cfar10_training_images[0], (32,32,3), order='F')\n",
    "plt.imshow(im)\n",
    "plt.show()\n",
    "print('label of image is --> '+str(cfar10_training_labels[0]))"
   ]
  },
  {
   "cell_type": "markdown",
   "metadata": {},
   "source": [
    "#### MNIST"
   ]
  },
  {
   "cell_type": "code",
   "execution_count": 3,
   "metadata": {
    "collapsed": false
   },
   "outputs": [
    {
     "data": {
      "image/png": "[encoded data removed]",
      "text/plain": [
       "<matplotlib.figure.Figure at 0x7f33a9f67208>"
      ]
     },
     "metadata": {},
     "output_type": "display_data"
    },
    {
     "name": "stdout",
     "output_type": "stream",
     "text": [
      "label of image is --> 2\n"
     ]
    }
   ],
   "source": [
    "mndata = MNIST('.',return_type='numpy')\n",
    "mnist_training_images, mnist_training_labels = mndata.load_training()\n",
    "mnist_testing_images, mnist_testing_labels = mndata.load_testing()\n",
    "\n",
    "# example of data\n",
    "im = np.reshape(mnist_testing_images[1], (28,28))\n",
    "plt.imshow(im, cmap='gray')\n",
    "plt.show()\n",
    "print('label of image is --> '+str(mnist_testing_labels[1]))"
   ]
  },
  {
   "cell_type": "markdown",
   "metadata": {},
   "source": [
    "<div style=\"background-color:#327191; vertical-align: middle; padding:5px 0px 10px 10px;\">\n",
    "    <h1><font color='white'>Comment on dimensionality and distribution of classes</font></h1>\n",
    "</div>"
   ]
  },
  {
   "cell_type": "markdown",
   "metadata": {},
   "source": [
    "<div style=\"background-color:#d9e6fc; padding:15px 15px 15px 15px;\"> \n",
    "The classes' distribution can affect the classification, since if the prior for class A is a lot greater than prior of the other classes, the product <i>likelihood*prior</i> will be also greater (supposing the likelihood is not varying too much from one class to another) and will \"attract\" more data.<br><br>\n",
    "Focusing on the dimensionality, the highest the dimensionality, the highest the number of combination of the features. If there are too many features but not enough data, it is not possible to have a sufficient number of data for each possible combination of features. This results in overfitting: we are creating a model using a set of data that describes only a part of the total dataset, that correspond to not being able to caracterize all the dataset corresponding to all the possible features.  \n",
    "  \n",
    "Below there is a plot showing the distribution of the elements per class: in the MNIST dataset it is possible to notice a greater variance in the distribution.\n",
    "</div>"
   ]
  },
  {
   "cell_type": "code",
   "execution_count": 6,
   "metadata": {
    "collapsed": false
   },
   "outputs": [
    {
     "data": {
      "image/png": "[encoded data removed]",
      "text/plain": [
       "<matplotlib.figure.Figure at 0x7f88d7145a20>"
      ]
     },
     "metadata": {},
     "output_type": "display_data"
    }
   ],
   "source": [
    "plt.figure(figsize=(15,7))\n",
    "plt.subplot(121)\n",
    "\n",
    "\n",
    "plt.bar(range(0,10),[len(cfar10_training_labels[cfar10_training_labels==c]) for c in range(0,10)])\n",
    "plt.title('CFAR10 Dataset')\n",
    "plt.xlabel('Classes')\n",
    "plt.ylabel('Number of elements')\n",
    "\n",
    "plt.subplot(122)\n",
    "\n",
    "plt.bar(range(0,10),[len(mnist_training_labels[mnist_training_labels==c]) for c in range(0,10)])\n",
    "plt.title('MNIST Dataset')\n",
    "plt.xlabel('Classes')\n",
    "plt.ylabel('Number of elements')\n",
    "\n",
    "plt.show()\n",
    "\n"
   ]
  },
  {
   "cell_type": "markdown",
   "metadata": {},
   "source": [
    "<div style=\"background-color:#327191; vertical-align: middle; padding:5px 0px 10px 10px;\">\n",
    "    <h1><font color='white'>Data Cleaning</font></h1>\n",
    "</div>"
   ]
  },
  {
   "cell_type": "markdown",
   "metadata": {},
   "source": [
    "<div style=\"background-color:#d9e6fc; padding:15px 15px 15px 15px;\"> \n",
    "Before operating on the data, it could be useful to identify eventual outliers. Proceding in this way can possibly lead to a better solution later on. The procedure is the following:\n",
    "<ul>\n",
    "<li> for each class calculate the mean \n",
    "<li> calculate the average distance and the standard deviation of the distances for each class\n",
    "<li> eliminate the images which distance from the mean is not in the interval <i>[average_distance - standard_dev,average_distance + standard_dev]</i>\n",
    "</ul>\n",
    "\n",
    "</div>"
   ]
  },
  {
   "cell_type": "code",
   "execution_count": null,
   "metadata": {
    "collapsed": true
   },
   "outputs": [],
   "source": [
    "\n",
    "avg_dist_for_class = []\n",
    "std_for_class = []\n",
    "imgs_mean = []\n",
    "\n",
    "# for each class calculate the mean amd\n",
    "# calculate the average distance and the standard deviation of the distances \n",
    "for c in classes:\n",
    "    cls_img = mnist_training_images[mnist_training_labels==c]\n",
    "    img_mean = np.mean(cls_img,axis=0)\n",
    "    distances = [np.linalg.norm(img_mean-e) for e in cls_img]\n",
    "    std_for_class.append(np.std(distances))\n",
    "    avg_dist_for_class.append(np.mean(distances))\n",
    "    imgs_mean.append(img_mean)\n",
    "\n",
    "# eliminate the images which distance from the mean is not\n",
    "# in the interval [average_distance - standard_dev,average_distance + standard_dev]\n",
    "mask = []\n",
    "for e,lbl in zip(mnist_training_images,mnist_training_labels):\n",
    "    dist = np.linalg.norm(imgs_mean[lbl]-e)\n",
    "    if dist > avg_dist_for_class[lbl] + std_for_class[lbl] or \\\n",
    "            dist < avg_dist_for_class[lbl] - std_for_class[lbl]:\n",
    "        mask.append(False)\n",
    "    else:\n",
    "        mask.append(True)\n",
    "mask = np.array(mask)    \n",
    "filter_mnist_training_images=mnist_training_images[mask]\n",
    "filter_mnist_training_labels=mnist_training_labels[mask]\n",
    "\n",
    "\n",
    "plt.figure(figsize=(15,5))\n",
    "plt.bar(range(0,10),[len(filter_mnist_training_images[filter_mnist_training_labels==c]) for c in range(0,10)])\n",
    "plt.title('MNIST Dataset filtered')\n",
    "plt.xlabel('Classes')\n",
    "plt.ylabel('Number of elements')\n",
    "plt.show()\n",
    "\n",
    "print('Number of elements after filtering --->',len(filter_mnist_training_images))"
   ]
  },
  {
   "cell_type": "markdown",
   "metadata": {},
   "source": [
    "<div style=\"background-color:#d9e6fc; padding:15px 15px 15px 15px;\"> \n",
    "From the graph above it is possible to notice that the classes are still not balanced. We are now balancing these classes, setting a number of images for each of them equal to 3500.\n",
    "\n",
    "</div>"
   ]
  },
  {
   "cell_type": "code",
   "execution_count": null,
   "metadata": {
    "collapsed": true
   },
   "outputs": [],
   "source": [
    "batch_dim = 3500\n",
    "num_classes = 10\n",
    "img_dim = 784\n",
    "new_mnist_training_images = np.array(functools.reduce(lambda x,y: np.append(x,y),\n",
    "                              [filter_mnist_training_images[filter_mnist_training_labels==c][:batch_dim] \n",
    "                               for c in range(0,10)])).reshape(batch_dim*num_classes,img_dim)\n",
    "new_mnist_training_labels = []\n",
    "for c in classes:\n",
    "    new_mnist_training_labels+=[c]*batch_dim\n",
    "len(new_mnist_training_labels)\n",
    "new_mnist_training_labels = np.array(new_mnist_training_labels)\n",
    "\n",
    "plt.figure(figsize=(15,5))\n",
    "plt.bar(range(0,10),[len(new_mnist_training_images[new_mnist_training_labels==c]) for c in range(0,10)])\n",
    "plt.title('MNIST Dataset filtered and balanced')\n",
    "plt.xlabel('Classes')\n",
    "plt.ylabel('Number of elements')\n",
    "plt.show()"
   ]
  },
  {
   "cell_type": "markdown",
   "metadata": {},
   "source": [
    "<div style=\"background-color:#327191; vertical-align: middle; padding:5px 0px 10px 10px;\">\n",
    "    <h1><font color='white'>Naïve Bayes</font></h1>\n",
    "</div>"
   ]
  },
  {
   "cell_type": "markdown",
   "metadata": {},
   "source": [
    "<div style=\"background-color:#d9e6fc; padding:15px 15px 15px 15px;\"> \n",
    "<h3>Pros and Cons</h3>\n",
    "<br>\n",
    "It is possible to identify pros and cons of using this kind of classifier (Naive Bayes). A NB classifier is a simple classifier, and it is also very fast to converge if the assumption of independence holds. If it doesn't hold this method still allows to arrive to a good solution, but not the best one. On the other hand, if data are skewed, that means more training examples for one class than another, it can cause the decision boundaries to be biased. This cause the classifier to unwillingly prefer one class over the other. A similar trend can be seen when the indipendence costraint is not respected: the likelihood tend to be greater for classes that most violate the indipendence assumption.\n",
    "\n",
    "\n",
    "</div>\n",
    "\n",
    "<div style=\"background-color:#d9e6fc; padding:15px 15px 15px 15px;\"> \n",
    "<h3>Our Classifier</h3>\n",
    "<br>\n",
    "\n",
    "Our classifier consist in a python class able to calculate the mean and variance of the training data, in order to calculate the likelihood of the new data needed to be evaluated. In particular we used the probability density function in order to calculate the \"probability\", and not the actual probability calculated as the integral of the function. This because with the actual probability, the highest the value with respect to the mean, the highest is going to be the probability. In our case we want the values closest to the mean to have more impact, that's why the use of the pdf.<br><br>\n",
    "\n",
    "When the likelihood is computed, since we are implementing a naive method, we can consider the different probabilities of the different features as indipendent, and simply multiply them with one another. A common problem is to end up with a very small number at the end, since we are multiplying numbers that are less than 1.<br>\n",
    "A solution could be to use the logarithm, and since the logarithm of a multiplication is the sum of the log of each element, that is what is computed instead of the multiplication. One fact to keep in mind is the following: the log of a probability is less than 0, since the probability is less than 1. When we calculate the likelihood we obtain something less than 0 that is going to be divided by something that is also less than zero (<i>sum over all the classes of likelihood*prior</i>). The numerator is going to be smaller and smaller as the likelihood is moving from a value of 1 to 0: so we obtain something less than 0 and very small. When this result is divided by something also less than 0 is going to be a big positive number. <br>\n",
    "\n",
    "<h4>What we obtain?</h4> <br>\n",
    "The smaller the likelihood, the smaller the log of it, but at the end is going to be very big. At the end we are not looking for the max value, we are rather looking for the smallest one thanks to this inversion of sign.\n",
    "\n",
    "<h4>Log-Likelihood tuning</h4>\n",
    "<br>\n",
    "Sometimes it is possible that the log of the likelihood is -inf: this is due to a too small value of the likelihood. A part of data cleaning could be getting rid of -inf values, that during the sum of the logs will wrongly influenciate the result.\n",
    "\n",
    "\n",
    "\n",
    "</div>"
   ]
  },
  {
   "cell_type": "code",
   "execution_count": 7,
   "metadata": {
    "collapsed": false
   },
   "outputs": [],
   "source": [
    "class Evaluate:\n",
    "    def __init__(self,classes,training_data,training_labels,test_data,test_labels):\n",
    "        self.classes = classes\n",
    "        self.training_data = training_data\n",
    "        self.training_labels = training_labels\n",
    "        self.test_data = test_data\n",
    "        self.test_labels = test_labels\n",
    "        self.mu = []\n",
    "        self.sigma2 = []\n",
    "        self.priors = np.array([])\n",
    "        self.predictions = np.array([])\n",
    "    \n",
    "    def mean_and_var(self):\n",
    "        for c in self.classes:\n",
    "            imgs = self.training_data[self.training_labels == c]\n",
    "            var = np.std(imgs,axis=0, ddof=1)\n",
    "            mn = np.mean(imgs,axis=0)\n",
    "            self.mu.append(mn)\n",
    "            self.sigma2.append(var)\n",
    "        self.mu = np.array(self.mu)\n",
    "        self.sigma2 = np.array(self.sigma2)\n",
    "\n",
    "        \n",
    "    def gaussian(self, x, m, v):\n",
    "        return 1 / np.sqrt(2 * np.pi * v) * np.exp(-(x - m)**2 / (2 * v))\n",
    "    \n",
    "    def likelihood(self, cls, data):\n",
    "        log_prob = np.array([np.log(self.gaussian(d, m, v)) if v > 0.0 else 0 for \n",
    "                         m, v, d in zip(self.mu[cls], self.sigma2[cls], data)])\n",
    "        mn = min(log_prob[log_prob!=-math.inf])\n",
    "        return sum(                \n",
    "                  [d if d != -math.inf else mn-1 for d in log_prob]  \n",
    "               )\n",
    "    \n",
    "    def prior(self):\n",
    "        pr = []\n",
    "        for c in self.classes:\n",
    "            mask = self.training_labels == c\n",
    "            pr.append(len(self.training_data[mask]))\n",
    "        self.priors =  np.array([e/sum(pr) for e in pr])\n",
    "        \n",
    "    \n",
    "    def predict(self):\n",
    "        labels = []\n",
    "        for d_test_img, d_test_lbl in zip(self.test_data,self.test_labels):            \n",
    "            probs = []\n",
    "            for c in self.classes:           \n",
    "                probs.append(self.likelihood(c,d_test_img)*self.priors[c])                \n",
    "            s = np.sum(probs)\n",
    "            probs = [p/s for p in probs]\n",
    "            labels.append(probs.index(min(probs)))\n",
    "        self.predictions = np.array(labels)        \n",
    "                \n",
    "    \n",
    "    def accuracy(self):\n",
    "        err = ok = 0\n",
    "        for pred, eff in zip(self.predictions, self.test_labels):\n",
    "            if pred == eff:\n",
    "                ok = ok + 1\n",
    "            else:\n",
    "                err = err + 1\n",
    "        return (ok,err)\n"
   ]
  },
  {
   "cell_type": "markdown",
   "metadata": {},
   "source": [
    "<div style=\"background-color:#5a8da7; vertical-align: middle; padding:5px 0px 10px 10px;\">\n",
    "    <h3><font color='white'>Evaluation of Naive Bayes with MNIST training and test set</font></h3>\n",
    "</div>"
   ]
  },
  {
   "cell_type": "code",
   "execution_count": 6,
   "metadata": {
    "collapsed": false
   },
   "outputs": [
    {
     "name": "stderr",
     "output_type": "stream",
     "text": [
      "/home/nomet/anaconda3/lib/python3.6/site-packages/ipykernel/__main__.py:29: RuntimeWarning: divide by zero encountered in log\n"
     ]
    }
   ],
   "source": [
    "classes = [0,1,2,3,4,5,6,7,8,9]\n",
    "ev = Evaluate(classes,mnist_training_images,mnist_training_labels,mnist_testing_images,mnist_testing_labels)\n",
    "ev.prior()\n",
    "ev.mean_and_var()\n",
    "ev.predict()"
   ]
  },
  {
   "cell_type": "code",
   "execution_count": 7,
   "metadata": {
    "collapsed": false
   },
   "outputs": [
    {
     "name": "stdout",
     "output_type": "stream",
     "text": [
      "accuracy --> 0.8159 with 8159 good classifications and 1841 wrong classifications\n"
     ]
    }
   ],
   "source": [
    "# ev.predict()\n",
    "accuracy = ev.accuracy()[0]/(ev.accuracy()[0]+ev.accuracy()[1])\n",
    "print(\"accuracy -->\",accuracy,\"with\",ev.accuracy()[0],\"good classifications and\",ev.accuracy()[1],\"wrong classifications\")"
   ]
  },
  {
   "cell_type": "code",
   "execution_count": 8,
   "metadata": {
    "collapsed": true
   },
   "outputs": [],
   "source": [
    "# save for eventual future use\n",
    "f = open('prediction_mnist','wb')\n",
    "pickle.dump(ev.predictions,f)"
   ]
  },
  {
   "cell_type": "markdown",
   "metadata": {},
   "source": [
    "<div style=\"background-color:#5a8da7; vertical-align: middle; padding:5px 0px 10px 10px;\">\n",
    "    <h3><font color='white'>Evaluation of Naive Bayes with CFAR training and test set</font></h3>\n",
    "</div>"
   ]
  },
  {
   "cell_type": "code",
   "execution_count": 14,
   "metadata": {
    "collapsed": false
   },
   "outputs": [],
   "source": [
    "classes = [0,1,2,3,4,5,6,7,8,9]\n",
    "ev_cfar10 = Evaluate(classes,cfar10_training_images,cfar10_training_labels,cfar10_test_images,cfar10_test_labels)\n",
    "ev_cfar10.prior()\n",
    "ev_cfar10.mean_and_var()\n",
    "ev_cfar10.predict()"
   ]
  },
  {
   "cell_type": "code",
   "execution_count": 15,
   "metadata": {
    "collapsed": false
   },
   "outputs": [
    {
     "name": "stdout",
     "output_type": "stream",
     "text": [
      "accuracy --> 0.2722 with 2722 good classifications and 7278 wrong classifications\n"
     ]
    }
   ],
   "source": [
    "accuracy = ev_cfar10.accuracy()[0]/(ev_cfar10.accuracy()[0]+ev_cfar10.accuracy()[1])\n",
    "print(\"accuracy -->\",accuracy,\"with\",ev_cfar10.accuracy()[0],\n",
    "      \"good classifications and\",ev_cfar10.accuracy()[1],\"wrong classifications\")"
   ]
  },
  {
   "cell_type": "code",
   "execution_count": 16,
   "metadata": {
    "collapsed": true
   },
   "outputs": [],
   "source": [
    "f = open('prediction_mnist','wb')\n",
    "pickle.dump(ev_cfar10.predictions,f)"
   ]
  },
  {
   "cell_type": "markdown",
   "metadata": {},
   "source": [
    "<div style=\"background-color:#5a8da7; vertical-align: middle; padding:5px 0px 10px 10px;\">\n",
    "    <h3><font color='white'>Performance discussion</font></h3>\n",
    "</div>"
   ]
  },
  {
   "cell_type": "markdown",
   "metadata": {},
   "source": [
    "<div style=\"background-color:#d9e6fc; padding:15px 15px 15px 15px;\"> \n",
    "We can see how the Naive Bayes classifier used on to make predictions on the mnist dataset performs quite good, with an accuracy of 81.59 percent, while on the cfar dataset the performances are not that good, only 27.22 percent. The reason could be that in the cfar dataset are present images more complicated and with number of colors greater than mnist images. This increase in features could have lead to a more difficult understanding of the image and to a higher misclassification rate.\n",
    "</div>"
   ]
  },
  {
   "cell_type": "markdown",
   "metadata": {},
   "source": [
    "<div style=\"background-color:#5a8da7; vertical-align: middle; padding:5px 0px 10px 10px;\">\n",
    "    <h3><font color='white'>Confusion Matrix</font></h3>\n",
    "</div>"
   ]
  },
  {
   "cell_type": "markdown",
   "metadata": {},
   "source": [
    "#### MNIST data set"
   ]
  },
  {
   "cell_type": "code",
   "execution_count": 11,
   "metadata": {
    "collapsed": false
   },
   "outputs": [],
   "source": [
    "predictions = pickle.load(open('prediction_mnist','rb'))\n",
    "matrix = []\n",
    "for c in classes:\n",
    "    mask = mnist_testing_labels == c\n",
    "    class_pred = predictions[mask]\n",
    "    matrix.append([len(class_pred[class_pred == c]) for c in classes])"
   ]
  },
  {
   "cell_type": "code",
   "execution_count": 12,
   "metadata": {
    "collapsed": false
   },
   "outputs": [
    {
     "name": "stdout",
     "output_type": "stream",
     "text": [
      "  Classes    0    1    2    3    4    5    6    7    8    9\n",
      "---------  ---  ---  ---  ---  ---  ---  ---  ---  ---  ---\n",
      "        0  885    0    2    0    0   75    9    1    8    0\n",
      "        1    0  938   20    1    1   84    6    0   85    0\n",
      "        2   18    1  881    8    8   27   24    7   57    1\n",
      "        3    8    0   49  695    2  181    5    2   57   11\n",
      "        4    3    0    9    0  796   49   19    0   30   76\n",
      "        5    9    0    6   17    8  820   11    0   15    6\n",
      "        6   24    2   16    0   13   75  824    0    4    0\n",
      "        7   10    8   35    0   23   42    0  764   59   87\n",
      "        8    7    0   17   13    6  142    7    3  760   19\n",
      "        9   14    1    4    1   91   57    1    4   40  796\n"
     ]
    }
   ],
   "source": [
    "from tabulate import tabulate\n",
    "print(tabulate(np.c_[range(10),matrix], headers=['Classes']+classes))\n"
   ]
  },
  {
   "cell_type": "markdown",
   "metadata": {
    "collapsed": true
   },
   "source": [
    "<div style=\"background-color:#327191; vertical-align: middle; padding:5px 0px 10px 10px;\">\n",
    "    <h1><font color='white'>Bayesian Linear Regression</font></h1>\n",
    "</div>"
   ]
  },
  {
   "cell_type": "markdown",
   "metadata": {},
   "source": [
    "<div style=\"background-color:#d9e6fc; padding:15px 15px 15px 15px;\"> \n",
    "The class below is used to create the bayesian linear regression method that will allow us to predict the type of an image using linear regression. Before being able to operate on the data, it is necessary to modify their structure, without changin the meaning and the content of each image. We defined the prior over w (<i>p(w)</i>) as a diagonal matrix with the element's value equal to 10000. \n",
    "<br>\n",
    "<h3>Problems encountered and solution proposed</h3>\n",
    "<br>\n",
    "We are working with discrete variables, but linear regression works with continues variables. In order to solve this problem we decided to treat each label as a one-hot vector. In this way we will not obtain a vector of weights of dimension <i>K+1</i> (where K is the grade of the polynomial and the + 1 is the grade zero term), but a matrix of dimension <i>K+1 x number_different_classes</i>. At the end of the prediction phase, for each test image not a single class will be returned but a set of N predictinos, where N is the number of different classes. Picking the highest value will give us the (hopefully) correct prediction.\n",
    "</div>"
   ]
  },
  {
   "cell_type": "code",
   "execution_count": 5,
   "metadata": {
    "collapsed": false
   },
   "outputs": [],
   "source": [
    "class BLR():\n",
    "    def __init__(self, classes, training_data, training_labels, test_data,test_labels, sigma, binary=True):     \n",
    "        # rapresent each class as a one-hot vector\n",
    "        self.classes = np.eye(len(classes)) if binary == True else classes\n",
    "        self.training_data = training_data\n",
    "        # rapresent each label as a one-hot vector\n",
    "        self.training_labels = [self.classes[c] for c in training_labels]\\\n",
    "                        if binary == True else training_labels\n",
    "        self.test_data = test_data\n",
    "        self.test_labels = test_labels\n",
    "        self.sigma = sigma   \n",
    "        self.binary = binary\n",
    "        \n",
    "    def adjust_data(self, k):\n",
    "        \"\"\"modify the input data to have them in the right format\"\"\"\n",
    "        \n",
    "        self.k = k\n",
    "        def redifine_data(x):\n",
    "            return np.array([\n",
    "                    np.array([x_i**n for n in range(k + 1)]).flatten() for x_i in np.array(x)\n",
    "                ])\n",
    "        self.training_data = redifine_data(self.training_data)\n",
    "        self.test_data = redifine_data(self.test_data)\n",
    "    \n",
    "    def generate_w(self):     \n",
    "        X = self.training_data\n",
    "        t0 = time.time()\n",
    "        X2 = X.T.dot(X)/self.sigma\n",
    "        S = np.eye(len(X2))*10000\n",
    "        X2inv = np.linalg.inv(X2+np.linalg.inv(S))\n",
    "        self.w = X2inv.dot(X.T).dot(self.training_labels)/self.sigma\n",
    "        \n",
    "    def make_prediction(self):\n",
    "        self.predictions = self.test_data.dot(self.w)\n",
    "        if self.binary == True:\n",
    "            self.predictions = [np.argmax(e) for e in self.predictions]\n",
    "    \n",
    "    def change_test_set(self, test_data, test_labels):\n",
    "        self.test_data = np.array([\n",
    "                    np.array([x_i**n for n in range(self.k + 1)]).flatten() for x_i in np.array(test_data)\n",
    "                ])\n",
    "        \n",
    "        self.test_labels = test_labels\n",
    "      \n",
    "    def accuracy(self):\n",
    "        err = ok = 0\n",
    "        for pred, eff in zip(self.predictions, self.test_labels):\n",
    "            if pred == eff:\n",
    "                ok = ok + 1\n",
    "            else:\n",
    "                err = err + 1\n",
    "        return (ok,err)\n",
    "    \n",
    "    def save_model(self, file_name):\n",
    "        f = open(file_name+'_w','wb')\n",
    "        pickle.dump(self.w,f)\n",
    "        f.close()\n",
    "        f = open(file_name+'_param','wb')\n",
    "        pickle.dump([self.sigma,self.binary,self.k,self.classes],f)\n",
    "        f.close()\n",
    "    \n",
    "    def load_model(self, file_name):\n",
    "        f = open(file_name+'_w','rb')\n",
    "        self.w = pickle.load(f)\n",
    "        f.close()\n",
    "        f = open(file_name+'_param','rb')\n",
    "        [self.sigma,self.binary,self.k,self.classes] = pickle.load(f)\n",
    "        f.close()"
   ]
  },
  {
   "cell_type": "code",
   "execution_count": 48,
   "metadata": {
    "collapsed": false
   },
   "outputs": [],
   "source": [
    "classes = [0,1,2,3,4,5,6,7,8,9]\n",
    "c = BLR(classes,mnist_training_images,mnist_training_labels,mnist_testing_images,mnist_testing_labels,0.05)\n",
    "t0 = time.time()\n",
    "c.adjust_data(2)\n",
    "c.generate_w()\n",
    "# c.save_model('model_k2_True_s05')"
   ]
  },
  {
   "cell_type": "code",
   "execution_count": 49,
   "metadata": {
    "collapsed": false
   },
   "outputs": [
    {
     "data": {
      "text/plain": [
       "(8897, 1103)"
      ]
     },
     "execution_count": 49,
     "metadata": {},
     "output_type": "execute_result"
    }
   ],
   "source": [
    "c.make_prediction()\n",
    "c.accuracy()"
   ]
  },
  {
   "cell_type": "markdown",
   "metadata": {},
   "source": [
    "## Bayesian linear regression cfar"
   ]
  },
  {
   "cell_type": "code",
   "execution_count": null,
   "metadata": {
    "collapsed": false
   },
   "outputs": [],
   "source": [
    "classes = [0,1,2,3,4,5,6,7,8,9]\n",
    "c_cfar = BLR(classes,cfar10_training_images,cfar10_training_labels,cfar10_test_images,cfar10_test_labels,0.05)\n",
    "c_cfar.adjust_data(2)\n",
    "c_cfar.generate_w()\n",
    "# c.save_model('model_k2_True_s05')"
   ]
  },
  {
   "cell_type": "code",
   "execution_count": 49,
   "metadata": {
    "collapsed": false
   },
   "outputs": [
    {
     "data": {
      "text/plain": [
       "(8897, 1103)"
      ]
     },
     "execution_count": 49,
     "metadata": {},
     "output_type": "execute_result"
    }
   ],
   "source": [
    "c_cfar.make_prediction()\n",
    "c_cfar.accuracy()"
   ]
  },
  {
   "cell_type": "code",
   "execution_count": null,
   "metadata": {
    "collapsed": true
   },
   "outputs": [],
   "source": [
    "# classes = np.array([2,3,4])\n",
    "\n",
    "# train_data1 = np.array([[1990,14], [1990.2,14.4], [1989, 13.8]])\n",
    "# train_label1 = np.array([2,2,2])\n",
    "\n",
    "# train_data2 = np.array([[1991,15], [1991.3,14.5], [1990.7, 15.4]])\n",
    "# train_label2 = np.array([3,3,3])\n",
    "\n",
    "# train_data3 = np.array([[1992,15.94], [1992.1,16.56], [1991.95, 16]])\n",
    "# train_label3 = np.array([4,4,4])\n",
    "\n",
    "# test_data = np.array([[1991,15]])\n",
    "# test_label = np.array([3])\n",
    "\n",
    "# c1 = BLR(classes, train_data1, train_label1, test_data, test_label,0.05)\n",
    "# c2 = BLR(classes, train_data2, train_label2, test_data, test_label,0.05)\n",
    "# c3 = BLR(classes, train_data3, train_label3, test_data, test_label,0.05)\n",
    "\n",
    "# cls = [c1,c2,c3]\n",
    "\n",
    "# for c in cls:\n",
    "#     c.adjust_data(2)\n",
    "#     c.generate_w()\n",
    "# #     print(c.w)\n",
    "#     print(c.make_prediction())"
   ]
  },
  {
   "cell_type": "markdown",
   "metadata": {},
   "source": [
    "<div style=\"background-color:#5a8da7; vertical-align: middle; padding:5px 0px 10px 10px;\">\n",
    "    <h3><font color='white'>Limitation of the previous approach</font></h3>\n",
    "</div>"
   ]
  },
  {
   "cell_type": "markdown",
   "metadata": {},
   "source": [
    "<div style=\"background-color:#d9e6fc; padding:15px 15px 15px 15px;\"> \n",
    "While using the one-hot vector to define a class for a given image, we are saying that the \"contribute\" of that image for a given class C is maximum, but completely inexistent for all the other classes. It could be better to procede in the following way:\n",
    "<ul>\n",
    "<li>given a class, take the images that are far away from the mean of the class \n",
    "<li>for that images look if the can contribute in defining also other classes (not a one-hot vector anymore)\n",
    "</ul>\n",
    "In order to exploit this idea we created a class, that behaves exactly as BLS, but with the addition of the methods to build up the labels to use in the training.\n",
    "</div>"
   ]
  },
  {
   "cell_type": "markdown",
   "metadata": {
    "collapsed": true
   },
   "source": [
    "<div style=\"background-color:#327191; vertical-align: middle; padding:5px 0px 10px 10px;\">\n",
    "    <h1><font color='white'>Bayesian Linear Regression - new approach</font></h1>\n",
    "</div>"
   ]
  },
  {
   "cell_type": "markdown",
   "metadata": {},
   "source": [
    "<div style=\"background-color:#d9e6fc; padding:15px 15px 15px 15px;\"> \n",
    "We are starting to calculate the average image for each class and then calculating the distances of the image belonging to each class with the average image calculated before.<br>\n",
    "Having now the set of distances for each class, we evaluate mean and variance. Supposing that the distribution of the distances follows a normal distribution, mean and variance are used to evaluate the pdf value for each distance. If this value is small enough with respect to the maximum of the pdf, it means that the image is far away from the class mean, so it is possible to look how similar is to the other classes.<br>\n",
    "Operating in this way lead us to the following situation:\n",
    "<ul>\n",
    "<li>given a class, some images have as label a one-hot vector\n",
    "<li>given the same class, other images will have as label a vector with: a 1 with respect to their class and other numbers with respect to other classes.\n",
    "</ul>\n",
    "<br>\n",
    "In order to identify the images far enough from the mean, we are looking at the ratio between the pdf evaluated for a given image and the max of the pdf: if 1 - ratio is greater than 0.8, then the image is considered far from the mean."
   ]
  },
  {
   "cell_type": "code",
   "execution_count": 67,
   "metadata": {
    "collapsed": false
   },
   "outputs": [
    {
     "data": {
      "image/png": "[encoded data removed]",
      "text/plain": [
       "<matplotlib.figure.Figure at 0x7fdc5bcd8f28>"
      ]
     },
     "metadata": {},
     "output_type": "display_data"
    },
    {
     "name": "stdout",
     "output_type": "stream",
     "text": [
      "label of image is --> 2\n"
     ]
    }
   ],
   "source": [
    "len_set = len(mnist_training_images[mnist_training_labels==1])\n",
    "asd = np.mean(mnist_training_images[mnist_training_labels==1],axis=0)\n",
    "im = np.reshape(asd, (28,28))\n",
    "plt.imshow(im, cmap='gray')\n",
    "plt.show()\n",
    "print('label of image is --> '+str(mnist_testing_labels[1]))"
   ]
  },
  {
   "cell_type": "code",
   "execution_count": 70,
   "metadata": {
    "collapsed": false
   },
   "outputs": [],
   "source": [
    "distances = [np.linalg.norm(asd-e) for e in mnist_training_images]"
   ]
  },
  {
   "cell_type": "code",
   "execution_count": 64,
   "metadata": {
    "collapsed": false
   },
   "outputs": [
    {
     "data": {
      "image/png": "[encoded data removed]",
      "text/plain": [
       "<matplotlib.figure.Figure at 0x7fdc5bc7b6a0>"
      ]
     },
     "metadata": {},
     "output_type": "display_data"
    }
   ],
   "source": [
    "import matplotlib.pyplot as plt\n",
    "plt.boxplot([np.linalg.norm(asd-e) for e in mnist_training_images])\n",
    "plt.show()"
   ]
  },
  {
   "cell_type": "code",
   "execution_count": 99,
   "metadata": {
    "collapsed": false
   },
   "outputs": [
    {
     "data": {
      "text/plain": [
       "0.07325"
      ]
     },
     "execution_count": 99,
     "metadata": {},
     "output_type": "execute_result"
    }
   ],
   "source": [
    "\n",
    "\n",
    "\n",
    "def gaussian(x, m, v):\n",
    "    return 1 / np.sqrt(2 * np.pi * v) * np.exp(-(x - m)**2 / (2 * v))\n",
    "\n",
    "var = np.std(distances,axis=0, ddof=1)\n",
    "mn = np.mean(distances,axis=0)\n",
    "\n",
    "asd = np.array([1 - gaussian(e,mn,var)/0.018366605621986522 for e in distances])\n",
    "len(asd[asd<=0.8])/len(distances)"
   ]
  },
  {
   "cell_type": "code",
   "execution_count": 142,
   "metadata": {
    "collapsed": false
   },
   "outputs": [],
   "source": [
    "class BLR_mod(BLR):\n",
    "    def __init__(self, classes, training_data,\n",
    "                 training_labels, test_data,test_labels, sigma, binary=True):\n",
    "        self.original_classes = classes\n",
    "        self.classes = np.eye(len(classes)) if binary == True else classes\n",
    "        self.training_data = training_data\n",
    "        self.training_labels = training_labels\n",
    "        self.test_data = test_data\n",
    "        self.test_labels = test_labels\n",
    "        self.mu = []\n",
    "        self.sigma2 = []\n",
    "        self.top_gaussian = []\n",
    "        self.class_mean = []\n",
    "        self.sigma = sigma   \n",
    "        self.binary = binary\n",
    "        \n",
    "    def gaussian(self, x, m, v):\n",
    "        return 1 / np.sqrt(2 * np.pi * v) * np.exp(-(x - m)**2 / (2 * v))\n",
    "    \n",
    "    def mean_and_var(self):\n",
    "        for c in self.original_classes:\n",
    "            class_mean = np.mean(self.training_data[self.training_labels == c],axis=0)\n",
    "            distances = [np.linalg.norm(class_mean-e) for e in self.training_data[self.training_labels == c]]\n",
    "            # var of the distances\n",
    "            var = np.std(distances,axis=0, ddof=1)\n",
    "            # mean of the distances\n",
    "            mn = np.mean(distances,axis=0)\n",
    "            self.class_mean.append(class_mean)\n",
    "            self.top_gaussian.append(self.gaussian(mn,mn,var))\n",
    "            self.mu.append(mn)\n",
    "            self.sigma2.append(var)\n",
    "        self.mu = np.array(self.mu)\n",
    "        self.sigma2 = np.array(self.sigma2)\n",
    "\n",
    "    \n",
    "    def labels(self):\n",
    "        labels = np.zeros((len(self.training_labels),10))\n",
    "        i = 0\n",
    "        for c,e in zip(self.training_labels,self.training_data):\n",
    "            dist = np.linalg.norm(self.class_mean[c]-e)\n",
    "            ratio = 1 - gaussian(dist,self.mu[c],self.sigma2[c])/self.top_gaussian[c]\n",
    "            labels[i] = self.classes[c]\n",
    "            if ratio > 0.8:\n",
    "                for cls in self.original_classes:\n",
    "                    if cls != c:\n",
    "                        dist = np.linalg.norm(self.class_mean[cls]-e)\n",
    "                        labels[i][cls] = gaussian(dist,self.mu[c],self.sigma2[c])/self.top_gaussian[cls]\n",
    "            i += 1\n",
    "        self.training_labels = labels\n",
    "        \n",
    "            \n",
    "            "
   ]
  },
  {
   "cell_type": "code",
   "execution_count": 151,
   "metadata": {
    "collapsed": true
   },
   "outputs": [],
   "source": [
    "import time\n",
    "classes = [0,1,2,3,4,5,6,7,8,9]\n",
    "c = BLR_mod(classes,mnist_training_images,mnist_training_labels,mnist_testing_images,mnist_testing_labels,0.05)\n",
    "c.mean_and_var()\n",
    "c.labels()\n",
    "c.adjust_data(2)\n",
    "c.generate_w()\n",
    "# c.save_model('model_k2_True_s05_mod')"
   ]
  },
  {
   "cell_type": "code",
   "execution_count": 152,
   "metadata": {
    "collapsed": false
   },
   "outputs": [
    {
     "data": {
      "text/plain": [
       "(8846, 1154)"
      ]
     },
     "execution_count": 152,
     "metadata": {},
     "output_type": "execute_result"
    }
   ],
   "source": [
    "c.make_prediction()\n",
    "c.accuracy()"
   ]
  },
  {
   "cell_type": "code",
   "execution_count": 153,
   "metadata": {
    "collapsed": true
   },
   "outputs": [],
   "source": []
  },
  {
   "cell_type": "code",
   "execution_count": null,
   "metadata": {
    "collapsed": true
   },
   "outputs": [],
   "source": []
  }
 ],
 "metadata": {
  "kernelspec": {
   "display_name": "Python 3",
   "language": "python",
   "name": "python3"
  },
  "language_info": {
   "codemirror_mode": {
    "name": "ipython",
    "version": 3
   },
   "file_extension": ".py",
   "mimetype": "text/x-python",
   "name": "python",
   "nbconvert_exporter": "python",
   "pygments_lexer": "ipython3",
   "version": "3.6.0"
  }
 },
 "nbformat": 4,
 "nbformat_minor": 2
}
